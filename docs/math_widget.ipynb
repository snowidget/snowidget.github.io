{
 "cells": [
  {
   "cell_type": "markdown",
   "id": "7f01016b",
   "metadata": {},
   "source": [
    "## Widget to plot prob density estimate provided a distribution and smoothing param\n",
    "Adaoted from: https://jakevdp.github.io/blog/2013/12/05/static-interactive-widgets/#SymPy-Matha"
   ]
  },
  {
   "cell_type": "code",
   "execution_count": 1,
   "id": "05f286a4",
   "metadata": {},
   "outputs": [],
   "source": [
    "%matplotlib inline\n",
    "import matplotlib.pyplot as plt\n",
    "import numpy as np\n",
    "from ipywidgets import interact, FloatSlider, widgets, interactive\n",
    "from IPython.display import display\n",
    "from sklearn.neighbors import KernelDensity"
   ]
  },
  {
   "cell_type": "code",
   "execution_count": 2,
   "id": "47724fae",
   "metadata": {},
   "outputs": [],
   "source": [
    "# tee up density estimate\n",
    "np.random.seed(100)\n",
    "x = np.concatenate([np.random.normal(0, 1, 1000), \n",
    "                   np.random.normal(1.5, 0.2, 300)])\n",
    "\n",
    "def plot_KDE_estimate(kernel, b):\n",
    "    bandwidth = 10 ** (0.1 * b)\n",
    "    x_grid = np.linspace(-3, 3, 1000)\n",
    "    kde = KernelDensity(bandwidth=bandwidth,\n",
    "                        kernel=kernel)\n",
    "    kde.fit(x[:, None])\n",
    "    pdf = np.exp(kde.score_samples(x_grid[:, None]))\n",
    "    \n",
    "    fig, ax = plt.subplots(figsize=(4, 3),\n",
    "                           subplot_kw={'fc':'#EEEEEE',\n",
    "                                       'axisbelow':True})\n",
    "    ax.grid(color='w', linewidth=2, linestyle='solid')\n",
    "    ax.hist(x, 60, histtype='stepfilled', density=True,\n",
    "            edgecolor='none', facecolor='#CCCCFF')\n",
    "    ax.plot(x_grid, pdf, '-k', lw=2, alpha=0.5)\n",
    "    ax.text(-2.8, 0.48,\n",
    "            \"kernel={0}\\nbandwidth={1:.2f}\".format(kernel, bandwidth),\n",
    "            fontsize=14, color='gray')\n",
    "    \n",
    "    ax.set_xlim(-3, 3)\n",
    "    ax.set_ylim(0, 0.601)\n",
    "    \n",
    "    return fig"
   ]
  },
  {
   "cell_type": "code",
   "execution_count": 3,
   "id": "3301d323",
   "metadata": {},
   "outputs": [],
   "source": [
    "w = interactive(plot_KDE_estimate, \n",
    "        kernel = widgets.RadioButtons(options=['gaussian', 'tophat', 'exponential', 'linear','cosine']), \n",
    "        b = widgets.IntSlider(min=-14, max=8, step=2));"
   ]
  },
  {
   "cell_type": "code",
   "execution_count": 4,
   "id": "20f7c21d",
   "metadata": {
    "scrolled": false
   },
   "outputs": [
    {
     "data": {
      "application/vnd.jupyter.widget-view+json": {
       "model_id": "67d239ff1e074bf485b833c297804a82",
       "version_major": 2,
       "version_minor": 0
      },
      "text/plain": [
       "interactive(children=(RadioButtons(description='kernel', options=('gaussian', 'tophat', 'exponential', 'linear…"
      ]
     },
     "metadata": {},
     "output_type": "display_data"
    }
   ],
   "source": [
    "display(w)"
   ]
  }
 ],
 "metadata": {
  "kernelspec": {
   "display_name": "Python 3 (ipykernel)",
   "language": "python",
   "name": "python3"
  },
  "language_info": {
   "codemirror_mode": {
    "name": "ipython",
    "version": 3
   },
   "file_extension": ".py",
   "mimetype": "text/x-python",
   "name": "python",
   "nbconvert_exporter": "python",
   "pygments_lexer": "ipython3",
   "version": "3.8.13"
  }
 },
 "nbformat": 4,
 "nbformat_minor": 5
}
